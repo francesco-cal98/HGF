{
 "cells": [
  {
   "cell_type": "markdown",
   "metadata": {},
   "source": [
    "## RDM example\n",
    "This example employs the model rdm_hgf. The first section simulates beliefs and responses of a putative agent.\n",
    "The second section shows the use of PAM"
   ]
  },
  {
   "cell_type": "code",
   "execution_count": null,
   "metadata": {},
   "outputs": [],
   "source": [
    "# importing dependencies \n",
    "\n",
    "import numpy as np \n",
    "import HGF\n",
    "import pandas as pd\n",
    "import os,sys\n",
    "\n",
    "# importing HGF library\n",
    "import HGF.hgf_config\n",
    "import HGF.hgf_fit\n",
    "\n",
    "# Extracting the parent dir in order to append it to the python path \n",
    "parent_dir = os.path.abspath(os.path.join(os.getcwd(), '..'))  # Adjust if needed\n",
    "\n",
    "# Add it to the Python path\n",
    "sys.path.append(parent_dir)\n",
    "\n",
    "# importing dependencies \n",
    "from PAM.RDM.rdm_hgf_config import rdm_hgf_config\n",
    "from PAM.RDM.utl.rdm_pdf import rdm_pdf\n"
   ]
  },
  {
   "cell_type": "code",
   "execution_count": null,
   "metadata": {},
   "outputs": [
    {
     "name": "stdout",
     "output_type": "stream",
     "text": [
      "(400,)\n"
     ]
    }
   ],
   "source": [
    "# load the trial list -- Specify the path -- \n",
    "u = pd.read_csv('u.csv')\n",
    "u = u.values\n",
    "u = u.flatten()\n"
   ]
  },
  {
   "cell_type": "markdown",
   "metadata": {},
   "source": [
    "## Section 1: Simulate dataset"
   ]
  },
  {
   "cell_type": "code",
   "execution_count": null,
   "metadata": {},
   "outputs": [
    {
     "name": "stdout",
     "output_type": "stream",
     "text": [
      "Ignored trials: []\n",
      "Irregular trials: []\n",
      "\n",
      "Initializing optimization run...\n",
      "\n",
      "Optimization terminated successfully.\n",
      "         Current function value: 265.698074\n",
      "         Iterations: 6\n",
      "         Function evaluations: 21\n",
      "         Gradient evaluations: 7\n",
      "\n",
      "\n",
      "RESULTS:\n",
      "\n",
      "Parameter estimates - perceptual model:\n",
      " mu_0: \t [nan  0.  1.]\n",
      " sa_0: \t [nan 0.1 1. ]\n",
      " rho: \t [nan  0.  0.]\n",
      " ka: \t [1. 1.]\n",
      " om: \t [        nan -3.57818887]\n",
      " th: \t 0.6495383397499885\n",
      "\n",
      "MODEL QUALITY:\n",
      " LME: \t -265.41135491471664 \t\t (more is better)\n",
      " AIC: \t 528.1669974755891 \t\t (less is better)\n",
      " BIC: \t 534.7636322086852 \t\t (less is better)\n",
      "Ignored trials: []\n"
     ]
    },
    {
     "name": "stderr",
     "output_type": "stream",
     "text": [
      "C:\\Users\\fraca\\HGF\\HGF\\hgf.py:39: RuntimeWarning: invalid value encountered in multiply\n",
      "  mu_hat = np.empty((n, l)) * np.nan     # mu^ quantity\n",
      "C:\\Users\\fraca\\HGF\\HGF\\hgf.py:38: RuntimeWarning: invalid value encountered in multiply\n",
      "  pi = np.empty((n, l)) * np.nan         # pi representation\n",
      "C:\\Users\\fraca\\HGF\\HGF\\hgf.py:40: RuntimeWarning: invalid value encountered in multiply\n",
      "  pi_hat = np.empty((n, l)) * np.nan     # pi^ quantity\n",
      "C:\\Users\\fraca\\HGF\\HGF\\hgf.py:37: RuntimeWarning: invalid value encountered in multiply\n",
      "  mu = np.empty((n, l)) * np.nan         # mu represnetation\n",
      "C:\\Users\\fraca\\HGF\\HGF\\hgf.py:41: RuntimeWarning: invalid value encountered in multiply\n",
      "  v = np.empty((n, l)) * np.nan\n",
      "C:\\Users\\fraca\\HGF\\HGF\\hgf.py:43: RuntimeWarning: invalid value encountered in multiply\n",
      "  da = np.empty((n, l)) * np.nan         # prediction errors\n"
     ]
    }
   ],
   "source": [
    "# Set parameters\n",
    "\n",
    "om2 = -4 # learning rate\n",
    "a_a = 2 # intercept of decision threshold \"a\"\n",
    "b_a = 1.2 #  Muhat slope effect for \"a\"\n",
    "a_v = 2.5 # Intercept of drift rate \"v\"\n",
    "b_val = 2.5 # Effect of validity (resp = input) on the drift\n",
    "b_v = 0 # Muhat slope effect for \"v\"\n",
    "Ter = 0 # Non decision time\n",
    "\n",
    "# Simulate Beliefs\n",
    "bo = HGF.hgf_fit.fitModel([], u,HGF.hgf_config.ehgf_binary_config, HGF.hgf_config.bayes_optimal_binary_config)\n",
    "priormus = bo['p_prc']['p'] \n",
    "priormus[-2]=om2\n",
    "esim = HGF.hgf_sim.simModel(u,HGF.hgf.ehgf_binary,priormus)\n",
    "\n",
    "# Extract trial-wise beliefs about u\n",
    "muhat = esim['traj']['mu_hat'][:,0]\n"
   ]
  },
  {
   "cell_type": "markdown",
   "metadata": {},
   "source": [
    "## Section 2: Simulate Responses"
   ]
  },
  {
   "cell_type": "code",
   "execution_count": null,
   "metadata": {},
   "outputs": [],
   "source": [
    "# Calculate trial-wise threshold for both the accumulators\n",
    "a_c1 = a_a + b_a*(.5-muhat)\n",
    "a_c0 = a_a + b_a*(.5-(1-muhat))\n",
    "\n",
    "# Calculate drift rate for both accumulators\n",
    "drift_c1 = a_v + b_val*(u==1).astype(float) +  b_v * (muhat - .5)\n",
    "drift_c0 = a_v + b_val*(u==0).astype(float) +  b_v * ((1-muhat) - .5)\n",
    "\n",
    "# Initialize arrays for response time and response\n",
    "rt = np.full((len(u), 1), np.nan)\n",
    "resp = np.full((len(u), 1), np.nan)\n",
    "\n",
    "# Loop over the trial list    \n",
    "x = np.arange(0.01, 3.01, 0.01) \n",
    "\n",
    "for n in range(len(u)):\n",
    "    probs_1 =  rdm_pdf(x,drift_c1[n],a_c1[n])\n",
    "    # Sample from the first accumulator probability distribution\n",
    "    P1 = np.random.choice(x, p=probs_1/probs_1.sum())\n",
    "    probs_2 =    rdm_pdf(x,drift_c0[n],a_c0[n])\n",
    "    P2 = np.random.choice(x, p=probs_2/probs_2.sum())\n",
    "    P = [P1, P2]\n",
    "    rt[n, 0], resp[n, 0] = min(P), np.argmin(P) + 1\n",
    "rt = rt+Ter\n",
    "resp[resp == 2] = 0"
   ]
  },
  {
   "cell_type": "markdown",
   "metadata": {},
   "source": [
    "## Section 3: Fit RDM HGF\n"
   ]
  },
  {
   "cell_type": "markdown",
   "metadata": {},
   "source": []
  },
  {
   "cell_type": "code",
   "execution_count": null,
   "metadata": {},
   "outputs": [
    {
     "name": "stdout",
     "output_type": "stream",
     "text": [
      "Ignored trials: []\n",
      "Irregular trials: []\n",
      "\n",
      "Initializing optimization run...\n",
      "\n"
     ]
    },
    {
     "name": "stderr",
     "output_type": "stream",
     "text": [
      "c:\\Users\\fraca\\HGF\\PAM\\RDM\\utl\\utl_inverse_gaussian.py:23: RuntimeWarning: overflow encountered in exp\n",
      "  cdf_part2 = np.exp(2 * drift_cdf * threshold2) * norm.cdf((-drift_cdf * x - threshold2) / np.sqrt(x))\n",
      "c:\\Users\\fraca\\HGF\\PAM\\RDM\\utl\\utl_inverse_gaussian.py:23: RuntimeWarning: invalid value encountered in scalar multiply\n",
      "  cdf_part2 = np.exp(2 * drift_cdf * threshold2) * norm.cdf((-drift_cdf * x - threshold2) / np.sqrt(x))\n"
     ]
    },
    {
     "name": "stdout",
     "output_type": "stream",
     "text": [
      "Optimization terminated successfully.\n",
      "         Current function value: -189.266802\n",
      "         Iterations: 15\n",
      "         Function evaluations: 168\n",
      "         Gradient evaluations: 24\n",
      "\n",
      "\n",
      "RESULTS:\n",
      "\n",
      "Parameter estimates - perceptual model:\n",
      " mu_0: \t [nan  0.  1.]\n",
      " sa_0: \t [nan 0.1 1. ]\n",
      " rho: \t [nan  0.  0.]\n",
      " ka: \t [1. 1.]\n",
      " om: \t [        nan -3.80141842]\n",
      " th: \t 2.2185595341745183\n",
      "\n",
      "Parameter estimates - observation model:\n",
      " a_a: \t 2.03049623486895\n",
      " b_a: \t 1.4662918062847088\n",
      " a_v: \t 2.526074999508975\n",
      " b_val: \t 2.398515988072638\n",
      " b_v: \t 0.0\n",
      " Ter: \t 0.0\n",
      "\n",
      "MODEL QUALITY:\n",
      " LME: \t 178.94445634143602 \t\t (more is better)\n",
      " AIC: \t -386.67432903852443 \t\t (less is better)\n",
      " BIC: \t -386.9087430375718 \t\t (less is better)\n"
     ]
    },
    {
     "name": "stderr",
     "output_type": "stream",
     "text": [
      "c:\\Users\\fraca\\HGF\\.venv\\Lib\\site-packages\\statsmodels\\tsa\\stattools.py:702: RuntimeWarning: invalid value encountered in divide\n",
      "  acf = avf[: nlags + 1] / avf[0]\n"
     ]
    }
   ],
   "source": [
    "# Configure Model\n",
    "overwrite_option_mus = {'c_prc' : {'om' : bo['p_prc']['om'] },'c_obs': {'b_vsa': 0}}\n",
    "obs_model =  rdm_hgf_config\n",
    "\n",
    "# Combine rt and resp for the current subject\n",
    "y = np.column_stack((rt, resp))  \n",
    "\n",
    "# Fit the model \n",
    "m = HGF.hgf_fit.fitModel(y, u,HGF.hgf_config.ehgf_binary_config , obs_model, opt_model=HGF.hgf_config.quasinewton_optim_config,overwrite_opt=overwrite_option_mus)\n"
   ]
  }
 ],
 "metadata": {
  "kernelspec": {
   "display_name": ".venv",
   "language": "python",
   "name": "python3"
  },
  "language_info": {
   "codemirror_mode": {
    "name": "ipython",
    "version": 3
   },
   "file_extension": ".py",
   "mimetype": "text/x-python",
   "name": "python",
   "nbconvert_exporter": "python",
   "pygments_lexer": "ipython3",
   "version": "3.11.9"
  }
 },
 "nbformat": 4,
 "nbformat_minor": 2
}
