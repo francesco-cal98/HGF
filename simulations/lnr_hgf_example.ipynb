{
 "cells": [
  {
   "cell_type": "code",
   "execution_count": null,
   "metadata": {},
   "outputs": [],
   "source": [
    "# importing dependencies \n",
    "\n",
    "import numpy as np \n",
    "import HGF\n",
    "import pandas as pd\n",
    "from scipy.stats import lognorm\n",
    "import os,sys\n",
    "import matplotlib.pyplot as plt\n",
    "\n",
    "# importing HGF library \n",
    "import HGF.hgf_config\n",
    "import HGF.hgf_fit\n",
    "\n",
    "# Extracting the parent dir in order to append it to the python path \n",
    "parent_dir = os.path.abspath(os.path.join(os.getcwd(), '..'))  # Adjust if needed\n",
    "\n",
    "# Add it to the Python path\n",
    "sys.path.append(parent_dir)\n",
    "\n",
    "# importing dependencies \n",
    "from PAM.LNR.lnr_hgf_config import lnr_hgf_config\n",
    "\n"
   ]
  },
  {
   "cell_type": "code",
   "execution_count": 2,
   "metadata": {},
   "outputs": [],
   "source": [
    "# load the trial list -- Specify the path -- \n",
    "u = pd.read_csv(r'C:\\Users\\fraca\\Desktop\\PAM\\Pam-master\\u.csv')\n",
    "u = u.values\n",
    "u = u.flatten()\n"
   ]
  },
  {
   "cell_type": "markdown",
   "metadata": {},
   "source": [
    "## Section 1: Simulate dataset"
   ]
  },
  {
   "cell_type": "code",
   "execution_count": null,
   "metadata": {},
   "outputs": [
    {
     "name": "stdout",
     "output_type": "stream",
     "text": [
      "Ignored trials: []\n",
      "Irregular trials: []\n",
      "\n",
      "Initializing optimization run...\n",
      "\n",
      "Optimization terminated successfully.\n",
      "         Current function value: 265.698074\n",
      "         Iterations: 6\n",
      "         Function evaluations: 21\n",
      "         Gradient evaluations: 7\n",
      "\n",
      "\n",
      "RESULTS:\n",
      "\n",
      "Parameter estimates - perceptual model:\n",
      " mu_0: \t [nan  0.  1.]\n",
      " sa_0: \t [nan 0.1 1. ]\n",
      " rho: \t [nan  0.  0.]\n",
      " ka: \t [1. 1.]\n",
      " om: \t [        nan -3.57818887]\n",
      " th: \t 0.6495383397499885\n",
      "\n",
      "MODEL QUALITY:\n",
      " LME: \t -265.41135491471664 \t\t (more is better)\n",
      " AIC: \t 528.1669974755891 \t\t (less is better)\n",
      " BIC: \t 534.7636322086852 \t\t (less is better)\n",
      "Ignored trials: []\n"
     ]
    },
    {
     "name": "stderr",
     "output_type": "stream",
     "text": [
      "C:\\Users\\fraca\\HGF\\HGF\\hgf.py:38: RuntimeWarning: invalid value encountered in multiply\n",
      "  pi = np.empty((n, l)) * np.nan         # pi representation\n",
      "C:\\Users\\fraca\\HGF\\HGF\\hgf.py:40: RuntimeWarning: invalid value encountered in multiply\n",
      "  pi_hat = np.empty((n, l)) * np.nan     # pi^ quantity\n",
      "C:\\Users\\fraca\\HGF\\HGF\\hgf.py:37: RuntimeWarning: invalid value encountered in multiply\n",
      "  mu = np.empty((n, l)) * np.nan         # mu represnetation\n",
      "C:\\Users\\fraca\\HGF\\HGF\\hgf.py:39: RuntimeWarning: invalid value encountered in multiply\n",
      "  mu_hat = np.empty((n, l)) * np.nan     # mu^ quantity\n",
      "C:\\Users\\fraca\\HGF\\HGF\\hgf.py:41: RuntimeWarning: invalid value encountered in multiply\n",
      "  v = np.empty((n, l)) * np.nan\n"
     ]
    }
   ],
   "source": [
    "\n",
    "# Set parameters\n",
    "\n",
    "\n",
    "om2 = -4 # learning rate\n",
    "a = -0.53 # mu of the lognormal distribution\n",
    "b_val = -0.47 # validity effect on a\n",
    "b = -0.19 # belief effect\n",
    "sigma = .25 # LNR variance\n",
    "Ter = 0 # non-decision time\n",
    "\n",
    "# Simulate Beliefs\n",
    "bo = HGF.hgf_fit.fitModel([], u,HGF.hgf_config.ehgf_binary_config, HGF.hgf_config.bayes_optimal_binary_config)\n",
    "priormus = bo['p_prc']['p'] \n",
    "priormus[-2]=om2\n",
    "esim = HGF.hgf_sim.simModel(u,HGF.hgf.ehgf_binary,priormus)\n",
    "\n",
    "# Extract trial-wise beliefs about u\n",
    "muhat = esim['traj']['mu_hat'][:,0]\n"
   ]
  },
  {
   "cell_type": "markdown",
   "metadata": {},
   "source": [
    "## Section 2: Simulate Responses"
   ]
  },
  {
   "cell_type": "code",
   "execution_count": null,
   "metadata": {},
   "outputs": [],
   "source": [
    "# SIMULATE RESPONSES \n",
    "\n",
    "mu_c1 = a + np.multiply(b_val,(u==1).astype(float)) + np.multiply(b,(.5-muhat))\n",
    "mu_c0 = a + np.multiply(b_val,(u==0).astype(float)) + np.multiply(b,(.5-(1-muhat)))\n",
    "\n",
    "\n",
    "# Initialize arrays for response time and response\n",
    "rt = np.full((len(u), 1), np.nan)\n",
    "resp = np.full((len(u), 1), np.nan)\n",
    "\n",
    "\n",
    "# Loop over the trial list\n",
    "for n in range(len(u)):\n",
    "    # Define probability distributions for the two accumulators\n",
    "    x = np.arange(0.01, 3.01, 0.01)  # Similar to 0.01:0.01:3 in MATLAB\n",
    "\n",
    "    # Log-normal PDF for the first accumulator\n",
    "    P1_pdf = lognorm.pdf(x, s=sigma, scale=np.exp(mu_c1[n]))\n",
    "    # Sample from the first accumulator probability distribution\n",
    "    P1 = np.random.choice(x, p=P1_pdf/P1_pdf.sum())\n",
    "\n",
    "    # Log-normal PDF for the second accumulator\n",
    "    P2_pdf = lognorm.pdf(x, s=sigma, scale=np.exp(mu_c0[n]))\n",
    "    # Sample from the second accumulator probability distribution\n",
    "    P2 = np.random.choice(x, p=P2_pdf/P2_pdf.sum())\n",
    "    # Collect the sampled probabilities\n",
    "    P = [P1, P2]\n",
    "    # Take the minimum probability (response time) and its index (response)\n",
    "    rt[n, 0], resp[n, 0] = min(P), np.argmin(P) + 1\n",
    "\n",
    "# Add Ter to all response times\n",
    "rt += Ter\n",
    "\n",
    "# Set the response of the second accumulator to 0\n",
    "resp[resp == 2] = 0"
   ]
  },
  {
   "cell_type": "markdown",
   "metadata": {},
   "source": [
    "## Section 3: Fit LNR HGF\n"
   ]
  },
  {
   "cell_type": "code",
   "execution_count": null,
   "metadata": {},
   "outputs": [
    {
     "name": "stdout",
     "output_type": "stream",
     "text": [
      "Ignored trials: []\n",
      "Irregular trials: []\n",
      "\n",
      "Initializing optimization run...\n",
      "\n"
     ]
    },
    {
     "name": "stderr",
     "output_type": "stream",
     "text": [
      "C:\\Users\\fraca\\HGF\\HGF\\hgf.py:43: RuntimeWarning: invalid value encountered in multiply\n",
      "  da = np.empty((n, l)) * np.nan         # prediction errors\n"
     ]
    },
    {
     "name": "stdout",
     "output_type": "stream",
     "text": [
      "Optimization terminated successfully.\n",
      "         Current function value: -290.697013\n",
      "         Iterations: 18\n",
      "         Function evaluations: 189\n",
      "         Gradient evaluations: 27\n",
      "\n",
      "\n",
      "RESULTS:\n",
      "\n",
      "Parameter estimates - perceptual model:\n",
      " mu_0: \t [nan  0.  1.]\n",
      " sa_0: \t [nan 0.1 1. ]\n",
      " rho: \t [nan  0.  0.]\n",
      " ka: \t [1. 1.]\n",
      " om: \t [        nan -2.40122752]\n",
      " th: \t 3.050220280768524\n",
      "\n",
      "Parameter estimates - observation model:\n",
      " a: \t -0.521495655426998\n",
      " b_val: \t -0.4798978077806823\n",
      " b: \t -0.1951405406466159\n",
      " sigma: \t 0.2479593605504163\n",
      " Ter: \t nan\n",
      "\n",
      "MODEL QUALITY:\n",
      " LME: \t 278.7512827759781 \t\t (more is better)\n",
      " AIC: \t -589.1923447279057 \t\t (less is better)\n",
      " BIC: \t -589.4802534079053 \t\t (less is better)\n"
     ]
    },
    {
     "name": "stderr",
     "output_type": "stream",
     "text": [
      "c:\\Users\\fraca\\HGF\\.venv\\Lib\\site-packages\\statsmodels\\tsa\\stattools.py:702: RuntimeWarning: invalid value encountered in divide\n",
      "  acf = avf[: nlags + 1] / avf[0]\n"
     ]
    }
   ],
   "source": [
    "# Configure Model\n",
    "overwrite_option_mus = {'prc_model' : {'ommu' : bo['p_prc']['om'] }}\n",
    "obs_model =  lnr_hgf_config\n",
    "\n",
    "# Combine rt and resp for the current subject\n",
    "y = np.column_stack((rt, resp))  \n",
    "\n",
    "# Fit the model \n",
    "m = HGF.hgf_fit.fitModel(y, u,HGF.hgf_config.ehgf_binary_config , obs_model, opt_model=HGF.hgf_config.quasinewton_optim_config,overwrite_opt=overwrite_option_mus)\n",
    "\n",
    "\n",
    "\n",
    "\n"
   ]
  }
 ],
 "metadata": {
  "kernelspec": {
   "display_name": ".venv",
   "language": "python",
   "name": "python3"
  },
  "language_info": {
   "codemirror_mode": {
    "name": "ipython",
    "version": 3
   },
   "file_extension": ".py",
   "mimetype": "text/x-python",
   "name": "python",
   "nbconvert_exporter": "python",
   "pygments_lexer": "ipython3",
   "version": "3.11.9"
  }
 },
 "nbformat": 4,
 "nbformat_minor": 2
}
